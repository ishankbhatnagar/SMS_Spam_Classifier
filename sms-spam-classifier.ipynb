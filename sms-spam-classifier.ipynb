{
 "cells": [
  {
   "cell_type": "code",
   "execution_count": 1,
   "id": "37316240",
   "metadata": {
    "_cell_guid": "b1076dfc-b9ad-4769-8c92-a6c4dae69d19",
    "_uuid": "8f2839f25d086af736a60e9eeb907d3b93b6e0e5",
    "execution": {
     "iopub.execute_input": "2023-11-16T16:43:50.358411Z",
     "iopub.status.busy": "2023-11-16T16:43:50.358008Z",
     "iopub.status.idle": "2023-11-16T16:43:53.056395Z",
     "shell.execute_reply": "2023-11-16T16:43:53.054972Z"
    },
    "papermill": {
     "duration": 2.707047,
     "end_time": "2023-11-16T16:43:53.059087",
     "exception": false,
     "start_time": "2023-11-16T16:43:50.352040",
     "status": "completed"
    },
    "tags": []
   },
   "outputs": [
    {
     "name": "stdout",
     "output_type": "stream",
     "text": [
      "[nltk_data] Downloading package stopwords to /usr/share/nltk_data...\n",
      "[nltk_data]   Package stopwords is already up-to-date!\n"
     ]
    },
    {
     "data": {
      "text/plain": [
       "True"
      ]
     },
     "execution_count": 1,
     "metadata": {},
     "output_type": "execute_result"
    }
   ],
   "source": [
    "import pandas as pd\n",
    "\n",
    "messages = pd.read_csv('/kaggle/input/dataset/SMSSpamCollection.tsv', sep='\\t',\n",
    "                           names=[\"label\", \"message\"])\n",
    "import re\n",
    "import nltk\n",
    "nltk.download('stopwords')"
   ]
  },
  {
   "cell_type": "code",
   "execution_count": 2,
   "id": "dc9c0f62",
   "metadata": {
    "execution": {
     "iopub.execute_input": "2023-11-16T16:43:53.071380Z",
     "iopub.status.busy": "2023-11-16T16:43:53.070983Z",
     "iopub.status.idle": "2023-11-16T16:44:07.684630Z",
     "shell.execute_reply": "2023-11-16T16:44:07.683620Z"
    },
    "papermill": {
     "duration": 14.622279,
     "end_time": "2023-11-16T16:44:07.687495",
     "exception": false,
     "start_time": "2023-11-16T16:43:53.065216",
     "status": "completed"
    },
    "tags": []
   },
   "outputs": [],
   "source": [
    "from nltk.corpus import stopwords\n",
    "from nltk.stem.porter import PorterStemmer\n",
    "ps = PorterStemmer()\n",
    "corpus = []\n",
    "for i in range(0, len(messages)):\n",
    "    review = re.sub('[^a-zA-Z]', ' ', messages['message'][i])\n",
    "    review = review.lower()\n",
    "    review = review.split()\n",
    "    \n",
    "    review = [ps.stem(word) for word in review if not word in stopwords.words('english')]\n",
    "    review = ' '.join(review)\n",
    "    corpus.append(review)\n",
    "    "
   ]
  },
  {
   "cell_type": "code",
   "execution_count": 3,
   "id": "d593453e",
   "metadata": {
    "execution": {
     "iopub.execute_input": "2023-11-16T16:44:07.698441Z",
     "iopub.status.busy": "2023-11-16T16:44:07.698015Z",
     "iopub.status.idle": "2023-11-16T16:44:07.896037Z",
     "shell.execute_reply": "2023-11-16T16:44:07.894769Z"
    },
    "papermill": {
     "duration": 0.206975,
     "end_time": "2023-11-16T16:44:07.898933",
     "exception": false,
     "start_time": "2023-11-16T16:44:07.691958",
     "status": "completed"
    },
    "tags": []
   },
   "outputs": [],
   "source": [
    "from sklearn.feature_extraction.text import CountVectorizer\n",
    "cv = CountVectorizer(max_features=2500)\n",
    "X = cv.fit_transform(corpus).toarray()\n",
    "\n",
    "y=pd.get_dummies(messages['label'])\n",
    "y=y.iloc[:,1].values"
   ]
  },
  {
   "cell_type": "code",
   "execution_count": 4,
   "id": "eb76eb81",
   "metadata": {
    "execution": {
     "iopub.execute_input": "2023-11-16T16:44:07.910456Z",
     "iopub.status.busy": "2023-11-16T16:44:07.910022Z",
     "iopub.status.idle": "2023-11-16T16:44:07.984581Z",
     "shell.execute_reply": "2023-11-16T16:44:07.983408Z"
    },
    "papermill": {
     "duration": 0.084543,
     "end_time": "2023-11-16T16:44:07.987863",
     "exception": false,
     "start_time": "2023-11-16T16:44:07.903320",
     "status": "completed"
    },
    "tags": []
   },
   "outputs": [],
   "source": [
    "from sklearn.model_selection import train_test_split\n",
    "X_train, X_test, y_train, y_test = train_test_split(X, y, test_size = 0.20, random_state = 0)"
   ]
  },
  {
   "cell_type": "code",
   "execution_count": 5,
   "id": "4fc32ff1",
   "metadata": {
    "execution": {
     "iopub.execute_input": "2023-11-16T16:44:07.998783Z",
     "iopub.status.busy": "2023-11-16T16:44:07.998358Z",
     "iopub.status.idle": "2023-11-16T16:44:08.081041Z",
     "shell.execute_reply": "2023-11-16T16:44:08.079653Z"
    },
    "papermill": {
     "duration": 0.091546,
     "end_time": "2023-11-16T16:44:08.084046",
     "exception": false,
     "start_time": "2023-11-16T16:44:07.992500",
     "status": "completed"
    },
    "tags": []
   },
   "outputs": [],
   "source": [
    "from sklearn.naive_bayes import MultinomialNB\n",
    "spam_detect_model = MultinomialNB().fit(X_train, y_train)"
   ]
  },
  {
   "cell_type": "code",
   "execution_count": 6,
   "id": "693bd433",
   "metadata": {
    "execution": {
     "iopub.execute_input": "2023-11-16T16:44:08.096565Z",
     "iopub.status.busy": "2023-11-16T16:44:08.096117Z",
     "iopub.status.idle": "2023-11-16T16:44:08.126067Z",
     "shell.execute_reply": "2023-11-16T16:44:08.124557Z"
    },
    "papermill": {
     "duration": 0.043787,
     "end_time": "2023-11-16T16:44:08.132541",
     "exception": false,
     "start_time": "2023-11-16T16:44:08.088754",
     "status": "completed"
    },
    "tags": []
   },
   "outputs": [
    {
     "data": {
      "text/plain": [
       "array([ True,  True, False, ..., False, False, False])"
      ]
     },
     "execution_count": 6,
     "metadata": {},
     "output_type": "execute_result"
    }
   ],
   "source": [
    "y_pred=spam_detect_model.predict(X_test)\n",
    "y_pred"
   ]
  },
  {
   "cell_type": "code",
   "execution_count": 7,
   "id": "e60b129b",
   "metadata": {
    "execution": {
     "iopub.execute_input": "2023-11-16T16:44:08.155916Z",
     "iopub.status.busy": "2023-11-16T16:44:08.155163Z",
     "iopub.status.idle": "2023-11-16T16:44:08.170262Z",
     "shell.execute_reply": "2023-11-16T16:44:08.168728Z"
    },
    "papermill": {
     "duration": 0.032118,
     "end_time": "2023-11-16T16:44:08.174799",
     "exception": false,
     "start_time": "2023-11-16T16:44:08.142681",
     "status": "completed"
    },
    "tags": []
   },
   "outputs": [
    {
     "data": {
      "text/plain": [
       "array([[947,   8],\n",
       "       [  7, 152]])"
      ]
     },
     "execution_count": 7,
     "metadata": {},
     "output_type": "execute_result"
    }
   ],
   "source": [
    "from sklearn.metrics import confusion_matrix\n",
    "confusion_m=confusion_matrix(y_test,y_pred)\n",
    "confusion_m"
   ]
  },
  {
   "cell_type": "code",
   "execution_count": 8,
   "id": "41b71c8a",
   "metadata": {
    "execution": {
     "iopub.execute_input": "2023-11-16T16:44:08.198124Z",
     "iopub.status.busy": "2023-11-16T16:44:08.197377Z",
     "iopub.status.idle": "2023-11-16T16:44:08.211341Z",
     "shell.execute_reply": "2023-11-16T16:44:08.209756Z"
    },
    "papermill": {
     "duration": 0.032819,
     "end_time": "2023-11-16T16:44:08.217185",
     "exception": false,
     "start_time": "2023-11-16T16:44:08.184366",
     "status": "completed"
    },
    "tags": []
   },
   "outputs": [
    {
     "data": {
      "text/plain": [
       "0.9865350089766607"
      ]
     },
     "execution_count": 8,
     "metadata": {},
     "output_type": "execute_result"
    }
   ],
   "source": [
    "from sklearn.metrics import accuracy_score\n",
    "accuracy=accuracy_score(y_test,y_pred)\n",
    "accuracy"
   ]
  }
 ],
 "metadata": {
  "kaggle": {
   "accelerator": "none",
   "dataSources": [
    {
     "datasetId": 26089,
     "sourceId": 33260,
     "sourceType": "datasetVersion"
    },
    {
     "datasetId": 4013208,
     "sourceId": 6982986,
     "sourceType": "datasetVersion"
    },
    {
     "datasetId": 1431910,
     "sourceId": 2370146,
     "sourceType": "datasetVersion"
    }
   ],
   "dockerImageVersionId": 30587,
   "isGpuEnabled": false,
   "isInternetEnabled": true,
   "language": "python",
   "sourceType": "notebook"
  },
  "kernelspec": {
   "display_name": "Python 3",
   "language": "python",
   "name": "python3"
  },
  "language_info": {
   "codemirror_mode": {
    "name": "ipython",
    "version": 3
   },
   "file_extension": ".py",
   "mimetype": "text/x-python",
   "name": "python",
   "nbconvert_exporter": "python",
   "pygments_lexer": "ipython3",
   "version": "3.10.12"
  },
  "papermill": {
   "default_parameters": {},
   "duration": 22.130015,
   "end_time": "2023-11-16T16:44:08.956132",
   "environment_variables": {},
   "exception": null,
   "input_path": "__notebook__.ipynb",
   "output_path": "__notebook__.ipynb",
   "parameters": {},
   "start_time": "2023-11-16T16:43:46.826117",
   "version": "2.4.0"
  }
 },
 "nbformat": 4,
 "nbformat_minor": 5
}
